{
 "cells": [
  {
   "cell_type": "markdown",
   "id": "2a30647f-17bc-4eba-9fd9-6e72b97970f0",
   "metadata": {},
   "source": [
    "<h1 style=\"text-align: center;\">TP1 : Introduction au processus ECD<br>Phases de prétraitement et de transformation</h1>"
   ]
  },
  {
   "cell_type": "code",
   "execution_count": 1,
   "id": "49fe3fe2-4560-4914-9364-866213b9fa44",
   "metadata": {},
   "outputs": [],
   "source": [
    "import pandas as pd"
   ]
  },
  {
   "cell_type": "markdown",
   "id": "6f4678ca-8bd2-412b-9a66-22751b0d8e81",
   "metadata": {},
   "source": [
    "1) Télécharger dans votre notebook la base de données ‘empl.csv’"
   ]
  },
  {
   "cell_type": "code",
   "execution_count": null,
   "id": "3bfdc120-9529-4d56-af5f-b012f56f4f31",
   "metadata": {},
   "outputs": [],
   "source": [
    "#travail avec google colab\n",
    "from google.colab import drive\n",
    "drive.mount('/content/drive',force_remount=True)\n",
    "path = '/content/drive/empl.csv'\n",
    "df = pd.read_csv(path)"
   ]
  },
  {
   "cell_type": "code",
   "execution_count": 3,
   "id": "4ef42e1e-832f-4536-8a23-969aba48590f",
   "metadata": {},
   "outputs": [
    {
     "data": {
      "text/html": [
       "<div>\n",
       "<style scoped>\n",
       "    .dataframe tbody tr th:only-of-type {\n",
       "        vertical-align: middle;\n",
       "    }\n",
       "\n",
       "    .dataframe tbody tr th {\n",
       "        vertical-align: top;\n",
       "    }\n",
       "\n",
       "    .dataframe thead th {\n",
       "        text-align: right;\n",
       "    }\n",
       "</style>\n",
       "<table border=\"1\" class=\"dataframe\">\n",
       "  <thead>\n",
       "    <tr style=\"text-align: right;\">\n",
       "      <th></th>\n",
       "      <th>Nom</th>\n",
       "      <th>Date_emb</th>\n",
       "      <th>poste</th>\n",
       "      <th>Salaire</th>\n",
       "      <th>nb heures trav</th>\n",
       "    </tr>\n",
       "  </thead>\n",
       "  <tbody>\n",
       "    <tr>\n",
       "      <th>0</th>\n",
       "      <td>Alice</td>\n",
       "      <td>30-30-3030</td>\n",
       "      <td>manger</td>\n",
       "      <td>NaN</td>\n",
       "      <td>18</td>\n",
       "    </tr>\n",
       "    <tr>\n",
       "      <th>1</th>\n",
       "      <td>Bob</td>\n",
       "      <td>15-02-2020</td>\n",
       "      <td>Ingenieur</td>\n",
       "      <td>90000.0</td>\n",
       "      <td>42</td>\n",
       "    </tr>\n",
       "    <tr>\n",
       "      <th>2</th>\n",
       "      <td>Charlie</td>\n",
       "      <td>01-06-2024</td>\n",
       "      <td>Developpeur</td>\n",
       "      <td>NaN</td>\n",
       "      <td>30</td>\n",
       "    </tr>\n",
       "    <tr>\n",
       "      <th>3</th>\n",
       "      <td>David</td>\n",
       "      <td>12-08-2020</td>\n",
       "      <td>Ingenieur</td>\n",
       "      <td>65000.0</td>\n",
       "      <td>38</td>\n",
       "    </tr>\n",
       "    <tr>\n",
       "      <th>4</th>\n",
       "      <td>Emma</td>\n",
       "      <td>16-05-2022</td>\n",
       "      <td>Ingenieur</td>\n",
       "      <td>83000.0</td>\n",
       "      <td>35</td>\n",
       "    </tr>\n",
       "    <tr>\n",
       "      <th>5</th>\n",
       "      <td>Alice</td>\n",
       "      <td>06-12-2023</td>\n",
       "      <td>manger</td>\n",
       "      <td>8000.0</td>\n",
       "      <td>18</td>\n",
       "    </tr>\n",
       "    <tr>\n",
       "      <th>6</th>\n",
       "      <td>Bob</td>\n",
       "      <td>15-02-2020</td>\n",
       "      <td>Ingenieur</td>\n",
       "      <td>90000.0</td>\n",
       "      <td>42</td>\n",
       "    </tr>\n",
       "    <tr>\n",
       "      <th>7</th>\n",
       "      <td>marwa</td>\n",
       "      <td>01-12-2013</td>\n",
       "      <td>Developpeur</td>\n",
       "      <td>73000.0</td>\n",
       "      <td>48</td>\n",
       "    </tr>\n",
       "  </tbody>\n",
       "</table>\n",
       "</div>"
      ],
      "text/plain": [
       "       Nom    Date_emb        poste  Salaire  nb heures trav\n",
       "0    Alice  30-30-3030       manger      NaN              18\n",
       "1      Bob  15-02-2020    Ingenieur  90000.0              42\n",
       "2  Charlie  01-06-2024  Developpeur      NaN              30\n",
       "3    David  12-08-2020    Ingenieur  65000.0              38\n",
       "4     Emma  16-05-2022    Ingenieur  83000.0              35\n",
       "5    Alice  06-12-2023       manger   8000.0              18\n",
       "6      Bob  15-02-2020    Ingenieur  90000.0              42\n",
       "7    marwa  01-12-2013  Developpeur  73000.0              48"
      ]
     },
     "execution_count": 3,
     "metadata": {},
     "output_type": "execute_result"
    }
   ],
   "source": [
    "#avec jupyter local\n",
    "df = pd.read_csv(\"empl.csv\") \n",
    "df"
   ]
  },
  {
   "cell_type": "markdown",
   "id": "0bb0679d-9f4f-4322-8300-9b564b3b3d4c",
   "metadata": {},
   "source": [
    "2) Interpréter le jeu de données en donnant le nombre des NaN et en décrivant les\n",
    "statistiques de base"
   ]
  },
  {
   "cell_type": "code",
   "execution_count": 4,
   "id": "00027e49-37cd-4058-b864-a011b888dd34",
   "metadata": {},
   "outputs": [
    {
     "name": "stdout",
     "output_type": "stream",
     "text": [
      "Les informations du dataframe :\n",
      "<class 'pandas.core.frame.DataFrame'>\n",
      "RangeIndex: 8 entries, 0 to 7\n",
      "Data columns (total 5 columns):\n",
      " #   Column          Non-Null Count  Dtype  \n",
      "---  ------          --------------  -----  \n",
      " 0   Nom             8 non-null      object \n",
      " 1   Date_emb        8 non-null      object \n",
      " 2   poste           8 non-null      object \n",
      " 3   Salaire         6 non-null      float64\n",
      " 4   nb heures trav  8 non-null      int64  \n",
      "dtypes: float64(1), int64(1), object(3)\n",
      "memory usage: 452.0+ bytes\n",
      "None\n",
      "Les statistiques de base du dataframe :\n",
      "            Salaire  nb heures trav\n",
      "count      6.000000         8.00000\n",
      "mean   68166.666667        33.87500\n",
      "std    31070.350282        11.14114\n",
      "min     8000.000000        18.00000\n",
      "25%    67000.000000        27.00000\n",
      "50%    78000.000000        36.50000\n",
      "75%    88250.000000        42.00000\n",
      "max    90000.000000        48.00000\n",
      "Le nombre de valeurs NaN dans chaque colonne :\n",
      "Nom               0\n",
      "Date_emb          0\n",
      "poste             0\n",
      "Salaire           2\n",
      "nb heures trav    0\n",
      "dtype: int64\n"
     ]
    }
   ],
   "source": [
    "print(\"Les informations du dataframe :\")\n",
    "print(df.info())\n",
    "print(f\"Les statistiques de base du dataframe :\")\n",
    "print(df.describe())\n",
    "print(f\"Le nombre de valeurs NaN dans chaque colonne :\")\n",
    "print(df.isna().sum())"
   ]
  },
  {
   "cell_type": "markdown",
   "id": "c935f297-0a74-4b26-ab9a-b7857733d1ef",
   "metadata": {},
   "source": [
    "3) Vérifier l’intégrité du domaine des valeurs de la variable ‘Date_emb’ <br>\n",
    "pd.to_datetime(df['date'], errors='coerce') : convertit le format de la date en datetime\n",
    "et si une valeur n'est pas une date valide (par exemple, un texte aléatoire ou un format\n",
    "incorrect), elle est remplacée par NaT (Not a Time)\n",
    ".notna() → Élimine les valeurs NaT."
   ]
  },
  {
   "cell_type": "code",
   "execution_count": 5,
   "id": "bf142192-2f99-4054-9e90-5525bbc45832",
   "metadata": {},
   "outputs": [
    {
     "name": "stderr",
     "output_type": "stream",
     "text": [
      "C:\\Users\\ASUS\\AppData\\Local\\Temp\\ipykernel_9688\\2619199604.py:1: UserWarning: Could not infer format, so each element will be parsed individually, falling back to `dateutil`. To ensure parsing is consistent and as-expected, please specify a format.\n",
      "  df['Date_emb'] = pd.to_datetime(df['Date_emb'], errors='coerce')\n"
     ]
    },
    {
     "data": {
      "text/html": [
       "<div>\n",
       "<style scoped>\n",
       "    .dataframe tbody tr th:only-of-type {\n",
       "        vertical-align: middle;\n",
       "    }\n",
       "\n",
       "    .dataframe tbody tr th {\n",
       "        vertical-align: top;\n",
       "    }\n",
       "\n",
       "    .dataframe thead th {\n",
       "        text-align: right;\n",
       "    }\n",
       "</style>\n",
       "<table border=\"1\" class=\"dataframe\">\n",
       "  <thead>\n",
       "    <tr style=\"text-align: right;\">\n",
       "      <th></th>\n",
       "      <th>Nom</th>\n",
       "      <th>Date_emb</th>\n",
       "      <th>poste</th>\n",
       "      <th>Salaire</th>\n",
       "      <th>nb heures trav</th>\n",
       "    </tr>\n",
       "  </thead>\n",
       "  <tbody>\n",
       "    <tr>\n",
       "      <th>0</th>\n",
       "      <td>Alice</td>\n",
       "      <td>NaT</td>\n",
       "      <td>manger</td>\n",
       "      <td>NaN</td>\n",
       "      <td>18</td>\n",
       "    </tr>\n",
       "    <tr>\n",
       "      <th>1</th>\n",
       "      <td>Bob</td>\n",
       "      <td>2020-02-15</td>\n",
       "      <td>Ingenieur</td>\n",
       "      <td>90000.0</td>\n",
       "      <td>42</td>\n",
       "    </tr>\n",
       "    <tr>\n",
       "      <th>2</th>\n",
       "      <td>Charlie</td>\n",
       "      <td>2024-01-06</td>\n",
       "      <td>Developpeur</td>\n",
       "      <td>NaN</td>\n",
       "      <td>30</td>\n",
       "    </tr>\n",
       "  </tbody>\n",
       "</table>\n",
       "</div>"
      ],
      "text/plain": [
       "       Nom   Date_emb        poste  Salaire  nb heures trav\n",
       "0    Alice        NaT       manger      NaN              18\n",
       "1      Bob 2020-02-15    Ingenieur  90000.0              42\n",
       "2  Charlie 2024-01-06  Developpeur      NaN              30"
      ]
     },
     "execution_count": 5,
     "metadata": {},
     "output_type": "execute_result"
    }
   ],
   "source": [
    "df['Date_emb'] = pd.to_datetime(df['Date_emb'], errors='coerce')\n",
    "df.head(3)"
   ]
  },
  {
   "cell_type": "code",
   "execution_count": 6,
   "id": "6e3da3cc-e2c9-4561-97c0-d8a179e14780",
   "metadata": {},
   "outputs": [
    {
     "name": "stdout",
     "output_type": "stream",
     "text": [
      "les dates invalides:\n",
      "     Nom Date_emb   poste  Salaire  nb heures trav\n",
      "0  Alice      NaT  manger      NaN              18\n",
      "\n",
      "les dates valides\n"
     ]
    },
    {
     "data": {
      "text/html": [
       "<div>\n",
       "<style scoped>\n",
       "    .dataframe tbody tr th:only-of-type {\n",
       "        vertical-align: middle;\n",
       "    }\n",
       "\n",
       "    .dataframe tbody tr th {\n",
       "        vertical-align: top;\n",
       "    }\n",
       "\n",
       "    .dataframe thead th {\n",
       "        text-align: right;\n",
       "    }\n",
       "</style>\n",
       "<table border=\"1\" class=\"dataframe\">\n",
       "  <thead>\n",
       "    <tr style=\"text-align: right;\">\n",
       "      <th></th>\n",
       "      <th>Nom</th>\n",
       "      <th>Date_emb</th>\n",
       "      <th>poste</th>\n",
       "      <th>Salaire</th>\n",
       "      <th>nb heures trav</th>\n",
       "    </tr>\n",
       "  </thead>\n",
       "  <tbody>\n",
       "    <tr>\n",
       "      <th>1</th>\n",
       "      <td>Bob</td>\n",
       "      <td>2020-02-15</td>\n",
       "      <td>Ingenieur</td>\n",
       "      <td>90000.0</td>\n",
       "      <td>42</td>\n",
       "    </tr>\n",
       "    <tr>\n",
       "      <th>2</th>\n",
       "      <td>Charlie</td>\n",
       "      <td>2024-01-06</td>\n",
       "      <td>Developpeur</td>\n",
       "      <td>NaN</td>\n",
       "      <td>30</td>\n",
       "    </tr>\n",
       "    <tr>\n",
       "      <th>3</th>\n",
       "      <td>David</td>\n",
       "      <td>2020-12-08</td>\n",
       "      <td>Ingenieur</td>\n",
       "      <td>65000.0</td>\n",
       "      <td>38</td>\n",
       "    </tr>\n",
       "  </tbody>\n",
       "</table>\n",
       "</div>"
      ],
      "text/plain": [
       "       Nom   Date_emb        poste  Salaire  nb heures trav\n",
       "1      Bob 2020-02-15    Ingenieur  90000.0              42\n",
       "2  Charlie 2024-01-06  Developpeur      NaN              30\n",
       "3    David 2020-12-08    Ingenieur  65000.0              38"
      ]
     },
     "execution_count": 6,
     "metadata": {},
     "output_type": "execute_result"
    }
   ],
   "source": [
    "#verification\n",
    "invalid_date = df[ df[\"Date_emb\"].isna() ]\n",
    "print(\"les dates invalides:\")\n",
    "print(invalid_date)\n",
    "valid_date = df[ df[\"Date_emb\"].notna() ]\n",
    "print(\"\\nles dates valides\")\n",
    "valid_date.head(3)"
   ]
  },
  {
   "cell_type": "markdown",
   "id": "2c30fc70-6e0b-4520-bbff-5a14cfc7369a",
   "metadata": {},
   "source": [
    "4) Vérifier s’il existe des doublons dans votre base, si c’est le cas procédé à leur\n",
    "suppression <br> .duplicated() / .drop_duplicates()"
   ]
  },
  {
   "cell_type": "code",
   "execution_count": 7,
   "id": "2c22a5e0-f8ff-44bb-820f-7ad3c8985575",
   "metadata": {},
   "outputs": [
    {
     "data": {
      "text/html": [
       "<div>\n",
       "<style scoped>\n",
       "    .dataframe tbody tr th:only-of-type {\n",
       "        vertical-align: middle;\n",
       "    }\n",
       "\n",
       "    .dataframe tbody tr th {\n",
       "        vertical-align: top;\n",
       "    }\n",
       "\n",
       "    .dataframe thead th {\n",
       "        text-align: right;\n",
       "    }\n",
       "</style>\n",
       "<table border=\"1\" class=\"dataframe\">\n",
       "  <thead>\n",
       "    <tr style=\"text-align: right;\">\n",
       "      <th></th>\n",
       "      <th>Nom</th>\n",
       "      <th>Date_emb</th>\n",
       "      <th>poste</th>\n",
       "      <th>Salaire</th>\n",
       "      <th>nb heures trav</th>\n",
       "    </tr>\n",
       "  </thead>\n",
       "  <tbody>\n",
       "    <tr>\n",
       "      <th>6</th>\n",
       "      <td>Bob</td>\n",
       "      <td>2020-02-15</td>\n",
       "      <td>Ingenieur</td>\n",
       "      <td>90000.0</td>\n",
       "      <td>42</td>\n",
       "    </tr>\n",
       "  </tbody>\n",
       "</table>\n",
       "</div>"
      ],
      "text/plain": [
       "   Nom   Date_emb      poste  Salaire  nb heures trav\n",
       "6  Bob 2020-02-15  Ingenieur  90000.0              42"
      ]
     },
     "execution_count": 7,
     "metadata": {},
     "output_type": "execute_result"
    }
   ],
   "source": [
    "doublons = valid_date[ valid_date.duplicated() ]\n",
    "doublons"
   ]
  },
  {
   "cell_type": "code",
   "execution_count": 8,
   "id": "0be2d3e3-6ca6-4418-9d2d-3ad1b515b8a3",
   "metadata": {},
   "outputs": [
    {
     "data": {
      "text/html": [
       "<div>\n",
       "<style scoped>\n",
       "    .dataframe tbody tr th:only-of-type {\n",
       "        vertical-align: middle;\n",
       "    }\n",
       "\n",
       "    .dataframe tbody tr th {\n",
       "        vertical-align: top;\n",
       "    }\n",
       "\n",
       "    .dataframe thead th {\n",
       "        text-align: right;\n",
       "    }\n",
       "</style>\n",
       "<table border=\"1\" class=\"dataframe\">\n",
       "  <thead>\n",
       "    <tr style=\"text-align: right;\">\n",
       "      <th></th>\n",
       "      <th>Nom</th>\n",
       "      <th>Date_emb</th>\n",
       "      <th>poste</th>\n",
       "      <th>Salaire</th>\n",
       "      <th>nb heures trav</th>\n",
       "    </tr>\n",
       "  </thead>\n",
       "  <tbody>\n",
       "    <tr>\n",
       "      <th>4</th>\n",
       "      <td>Emma</td>\n",
       "      <td>2022-05-16</td>\n",
       "      <td>Ingenieur</td>\n",
       "      <td>83000.0</td>\n",
       "      <td>35</td>\n",
       "    </tr>\n",
       "    <tr>\n",
       "      <th>5</th>\n",
       "      <td>Alice</td>\n",
       "      <td>2023-06-12</td>\n",
       "      <td>manger</td>\n",
       "      <td>8000.0</td>\n",
       "      <td>18</td>\n",
       "    </tr>\n",
       "    <tr>\n",
       "      <th>7</th>\n",
       "      <td>marwa</td>\n",
       "      <td>2013-01-12</td>\n",
       "      <td>Developpeur</td>\n",
       "      <td>73000.0</td>\n",
       "      <td>48</td>\n",
       "    </tr>\n",
       "  </tbody>\n",
       "</table>\n",
       "</div>"
      ],
      "text/plain": [
       "     Nom   Date_emb        poste  Salaire  nb heures trav\n",
       "4   Emma 2022-05-16    Ingenieur  83000.0              35\n",
       "5  Alice 2023-06-12       manger   8000.0              18\n",
       "7  marwa 2013-01-12  Developpeur  73000.0              48"
      ]
     },
     "execution_count": 8,
     "metadata": {},
     "output_type": "execute_result"
    }
   ],
   "source": [
    "df_sans_doublons = valid_date.drop_duplicates()\n",
    "df_sans_doublons.tail(3)"
   ]
  },
  {
   "cell_type": "markdown",
   "id": "0d1b69c1-df77-4dec-866c-4088c63f6834",
   "metadata": {},
   "source": [
    "5) Remplacer toutes les valeurs NaN par Zéro\n"
   ]
  },
  {
   "cell_type": "code",
   "execution_count": 9,
   "id": "d5a3e538-9e59-4dd7-a792-5eaf7ee2396e",
   "metadata": {},
   "outputs": [
    {
     "data": {
      "text/html": [
       "<div>\n",
       "<style scoped>\n",
       "    .dataframe tbody tr th:only-of-type {\n",
       "        vertical-align: middle;\n",
       "    }\n",
       "\n",
       "    .dataframe tbody tr th {\n",
       "        vertical-align: top;\n",
       "    }\n",
       "\n",
       "    .dataframe thead th {\n",
       "        text-align: right;\n",
       "    }\n",
       "</style>\n",
       "<table border=\"1\" class=\"dataframe\">\n",
       "  <thead>\n",
       "    <tr style=\"text-align: right;\">\n",
       "      <th></th>\n",
       "      <th>Nom</th>\n",
       "      <th>Date_emb</th>\n",
       "      <th>poste</th>\n",
       "      <th>Salaire</th>\n",
       "      <th>nb heures trav</th>\n",
       "    </tr>\n",
       "  </thead>\n",
       "  <tbody>\n",
       "    <tr>\n",
       "      <th>1</th>\n",
       "      <td>Bob</td>\n",
       "      <td>2020-02-15</td>\n",
       "      <td>Ingenieur</td>\n",
       "      <td>90000.0</td>\n",
       "      <td>42</td>\n",
       "    </tr>\n",
       "    <tr>\n",
       "      <th>2</th>\n",
       "      <td>Charlie</td>\n",
       "      <td>2024-01-06</td>\n",
       "      <td>Developpeur</td>\n",
       "      <td>0.0</td>\n",
       "      <td>30</td>\n",
       "    </tr>\n",
       "    <tr>\n",
       "      <th>3</th>\n",
       "      <td>David</td>\n",
       "      <td>2020-12-08</td>\n",
       "      <td>Ingenieur</td>\n",
       "      <td>65000.0</td>\n",
       "      <td>38</td>\n",
       "    </tr>\n",
       "  </tbody>\n",
       "</table>\n",
       "</div>"
      ],
      "text/plain": [
       "       Nom   Date_emb        poste  Salaire  nb heures trav\n",
       "1      Bob 2020-02-15    Ingenieur  90000.0              42\n",
       "2  Charlie 2024-01-06  Developpeur      0.0              30\n",
       "3    David 2020-12-08    Ingenieur  65000.0              38"
      ]
     },
     "execution_count": 9,
     "metadata": {},
     "output_type": "execute_result"
    }
   ],
   "source": [
    "df_sans_doublons = df_sans_doublons.fillna(0)\n",
    "df_sans_doublons.head(3) #salaire 0 = valeur aberrantes"
   ]
  },
  {
   "cell_type": "markdown",
   "id": "d705f2d9-18fe-4d6b-b941-aefc8217d0f1",
   "metadata": {},
   "source": [
    "6) Déduire si le traitement de la question précédente a conduit à l'apparition de valeurs \n",
    "aberrantes dans la base de données, si c’est le cas remplacer ces valeurs par la valeur \n",
    "max de la variable."
   ]
  },
  {
   "cell_type": "code",
   "execution_count": 10,
   "id": "a08f2af8-7e85-4dee-923c-371e3cd81c5e",
   "metadata": {},
   "outputs": [
    {
     "data": {
      "text/html": [
       "<div>\n",
       "<style scoped>\n",
       "    .dataframe tbody tr th:only-of-type {\n",
       "        vertical-align: middle;\n",
       "    }\n",
       "\n",
       "    .dataframe tbody tr th {\n",
       "        vertical-align: top;\n",
       "    }\n",
       "\n",
       "    .dataframe thead th {\n",
       "        text-align: right;\n",
       "    }\n",
       "</style>\n",
       "<table border=\"1\" class=\"dataframe\">\n",
       "  <thead>\n",
       "    <tr style=\"text-align: right;\">\n",
       "      <th></th>\n",
       "      <th>Nom</th>\n",
       "      <th>Date_emb</th>\n",
       "      <th>poste</th>\n",
       "      <th>Salaire</th>\n",
       "      <th>nb heures trav</th>\n",
       "    </tr>\n",
       "  </thead>\n",
       "  <tbody>\n",
       "    <tr>\n",
       "      <th>1</th>\n",
       "      <td>Bob</td>\n",
       "      <td>2020-02-15</td>\n",
       "      <td>Ingenieur</td>\n",
       "      <td>90000.0</td>\n",
       "      <td>42</td>\n",
       "    </tr>\n",
       "    <tr>\n",
       "      <th>2</th>\n",
       "      <td>Charlie</td>\n",
       "      <td>2024-01-06</td>\n",
       "      <td>Developpeur</td>\n",
       "      <td>90000.0</td>\n",
       "      <td>30</td>\n",
       "    </tr>\n",
       "    <tr>\n",
       "      <th>3</th>\n",
       "      <td>David</td>\n",
       "      <td>2020-12-08</td>\n",
       "      <td>Ingenieur</td>\n",
       "      <td>65000.0</td>\n",
       "      <td>38</td>\n",
       "    </tr>\n",
       "  </tbody>\n",
       "</table>\n",
       "</div>"
      ],
      "text/plain": [
       "       Nom   Date_emb        poste  Salaire  nb heures trav\n",
       "1      Bob 2020-02-15    Ingenieur  90000.0              42\n",
       "2  Charlie 2024-01-06  Developpeur  90000.0              30\n",
       "3    David 2020-12-08    Ingenieur  65000.0              38"
      ]
     },
     "execution_count": 10,
     "metadata": {},
     "output_type": "execute_result"
    }
   ],
   "source": [
    "df = df_sans_doublons\n",
    "# Utilisation de .loc[] pour remplacer les valeurs de la colonne \"Salaire\" qui sont égales à 0\n",
    "# df.loc[condition, colonne] permet de sélectionner et de modifier les lignes où une condition est vraie.\n",
    "# Ici, on sélectionne les lignes où \"Salaire\" == 0 et on remplace ces valeurs par max \"Salaire\".\n",
    "df.loc[df[\"Salaire\"] == 0, \"Salaire\"] = df[\"Salaire\"].max()\n",
    "df.head(3)"
   ]
  },
  {
   "cell_type": "markdown",
   "id": "2d67ba0c-a52b-4d08-a411-16ce25e5353c",
   "metadata": {},
   "source": [
    "7) Appliquer le codage nécessaire pour transformer les valeurs de la variable Poste en des \n",
    "valeurs numériques. (Exemple ; manger :0, Ingénieur :1, Développeur : 2)"
   ]
  },
  {
   "cell_type": "code",
   "execution_count": 11,
   "id": "02e8eb6c-2ea6-4bae-90fc-7a5dce4d76ba",
   "metadata": {},
   "outputs": [
    {
     "data": {
      "text/html": [
       "<div>\n",
       "<style scoped>\n",
       "    .dataframe tbody tr th:only-of-type {\n",
       "        vertical-align: middle;\n",
       "    }\n",
       "\n",
       "    .dataframe tbody tr th {\n",
       "        vertical-align: top;\n",
       "    }\n",
       "\n",
       "    .dataframe thead th {\n",
       "        text-align: right;\n",
       "    }\n",
       "</style>\n",
       "<table border=\"1\" class=\"dataframe\">\n",
       "  <thead>\n",
       "    <tr style=\"text-align: right;\">\n",
       "      <th></th>\n",
       "      <th>Nom</th>\n",
       "      <th>Date_emb</th>\n",
       "      <th>poste</th>\n",
       "      <th>Salaire</th>\n",
       "      <th>nb heures trav</th>\n",
       "    </tr>\n",
       "  </thead>\n",
       "  <tbody>\n",
       "    <tr>\n",
       "      <th>1</th>\n",
       "      <td>Bob</td>\n",
       "      <td>2020-02-15</td>\n",
       "      <td>1</td>\n",
       "      <td>90000.0</td>\n",
       "      <td>42</td>\n",
       "    </tr>\n",
       "    <tr>\n",
       "      <th>2</th>\n",
       "      <td>Charlie</td>\n",
       "      <td>2024-01-06</td>\n",
       "      <td>2</td>\n",
       "      <td>90000.0</td>\n",
       "      <td>30</td>\n",
       "    </tr>\n",
       "    <tr>\n",
       "      <th>3</th>\n",
       "      <td>David</td>\n",
       "      <td>2020-12-08</td>\n",
       "      <td>1</td>\n",
       "      <td>65000.0</td>\n",
       "      <td>38</td>\n",
       "    </tr>\n",
       "  </tbody>\n",
       "</table>\n",
       "</div>"
      ],
      "text/plain": [
       "       Nom   Date_emb  poste  Salaire  nb heures trav\n",
       "1      Bob 2020-02-15      1  90000.0              42\n",
       "2  Charlie 2024-01-06      2  90000.0              30\n",
       "3    David 2020-12-08      1  65000.0              38"
      ]
     },
     "execution_count": 11,
     "metadata": {},
     "output_type": "execute_result"
    }
   ],
   "source": [
    "df[\"poste\"] = df[\"poste\"].map({'manger': 0, 'Ingenieur': 1, 'Developpeur': 2})\n",
    "df.head(3)"
   ]
  },
  {
   "cell_type": "markdown",
   "id": "fc5069f2",
   "metadata": {},
   "source": [
    "8) Calculer la matrice Y des données centrées et la matrice Z de données centrées et \n",
    "réduites"
   ]
  },
  {
   "cell_type": "code",
   "execution_count": 12,
   "id": "0f9b5eb3",
   "metadata": {},
   "outputs": [
    {
     "name": "stdout",
     "output_type": "stream",
     "text": [
      "\n",
      "Moyenne de Y (doit être proche de 0) :\n",
      " Salaire          -4.850638e-12\n",
      "nb heures trav    2.368476e-15\n",
      "dtype: float64\n",
      "\n",
      "Écart-type de Z (doit être proche de 1) :\n",
      " Salaire           1.0\n",
      "nb heures trav    1.0\n",
      "dtype: float64\n"
     ]
    }
   ],
   "source": [
    "X = df[[\"Salaire\",\"nb heures trav\"]]\n",
    "# donnée centré Y = X - X bar\n",
    "Y = X - X.mean()\n",
    "print(\"\\nMoyenne de Y (doit être proche de 0) :\\n\", Y.mean())\n",
    "# donnée centré réduit Z = (X - X bar)/ecarttype\n",
    "Z = (X - X.mean()) / X.std()\n",
    "print(\"\\nÉcart-type de Z (doit être proche de 1) :\\n\", Z.std())"
   ]
  },
  {
   "cell_type": "markdown",
   "id": "644860a9",
   "metadata": {},
   "source": [
    "9) Calculer la matrice RX des corrélations de notre matrice de données"
   ]
  },
  {
   "cell_type": "code",
   "execution_count": 13,
   "id": "2f6a733f",
   "metadata": {},
   "outputs": [
    {
     "name": "stdout",
     "output_type": "stream",
     "text": [
      "\n",
      "Matrice R_X (corrélations) :\n",
      "                  Salaire  nb heures trav\n",
      "Salaire         1.000000        0.693091\n",
      "nb heures trav  0.693091        1.000000\n"
     ]
    }
   ],
   "source": [
    "R_X = X.corr()\n",
    "print(\"\\nMatrice R_X (corrélations) :\\n\", R_X)"
   ]
  },
  {
   "cell_type": "code",
   "execution_count": 14,
   "id": "a0980deb-8c1d-490c-b23a-6671d9ec5ecd",
   "metadata": {},
   "outputs": [
    {
     "name": "stdout",
     "output_type": "stream",
     "text": [
      "la correlation entre ses deux variables 0.69 est proche de 1\n"
     ]
    }
   ],
   "source": [
    "print(f\"la correlation entre ses deux variables {round(R_X.iloc[0, 1], 2)} est proche de 1\")"
   ]
  },
  {
   "cell_type": "markdown",
   "id": "4e0a2945-43f9-4781-ba87-c408af0c0674",
   "metadata": {},
   "source": [
    "=> il existe forte correlation linéaire entre ses deux variables"
   ]
  },
  {
   "cell_type": "markdown",
   "id": "ae1154db",
   "metadata": {},
   "source": [
    "et la matrice VZ des variances et covariances de Z. Commenter"
   ]
  },
  {
   "cell_type": "code",
   "execution_count": 15,
   "id": "6da7cc6c",
   "metadata": {},
   "outputs": [
    {
     "name": "stdout",
     "output_type": "stream",
     "text": [
      "\n",
      "Matrice V_Z de covariances de Z :\n",
      "                  Salaire  nb heures trav\n",
      "Salaire         1.000000        0.693091\n",
      "nb heures trav  0.693091        1.000000\n"
     ]
    }
   ],
   "source": [
    "V_Z = Z.cov()\n",
    "print(\"\\nMatrice V_Z de covariances de Z :\\n\", V_Z)"
   ]
  },
  {
   "cell_type": "markdown",
   "id": "63c62e81",
   "metadata": {},
   "source": [
    "=> R_X et V_Z sont égales"
   ]
  }
 ],
 "metadata": {
  "kernelspec": {
   "display_name": "Python (py312)",
   "language": "python",
   "name": "py312"
  },
  "language_info": {
   "codemirror_mode": {
    "name": "ipython",
    "version": 3
   },
   "file_extension": ".py",
   "mimetype": "text/x-python",
   "name": "python",
   "nbconvert_exporter": "python",
   "pygments_lexer": "ipython3",
   "version": "3.12.7"
  }
 },
 "nbformat": 4,
 "nbformat_minor": 5
}
